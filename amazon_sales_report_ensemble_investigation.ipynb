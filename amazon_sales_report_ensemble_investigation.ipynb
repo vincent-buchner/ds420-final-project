{
 "cells": [
  {
   "attachments": {},
   "cell_type": "markdown",
   "metadata": {},
   "source": [
    "### Model Investigation\n",
    "\n",
    "- Random Forest Regressor (Baseline)\n",
    "- Hist Gradient Boosting Regressor\n",
    "- Bagging Regressor\n",
    "- AdaBoost Regressor\n",
    "- Stacking Regressor\n",
    "- Voting Regressor"
   ]
  },
  {
   "cell_type": "code",
   "execution_count": 1,
   "metadata": {},
   "outputs": [],
   "source": [
    "# Imports\n",
    "\n",
    "from sklearn.linear_model import LinearRegression, SGDRegressor, Ridge\n",
    "from sklearn.neighbors import KNeighborsRegressor\n",
    "from sklearn.tree import DecisionTreeRegressor\n",
    "from sklearn.ensemble import RandomForestRegressor, GradientBoostingRegressor, AdaBoostRegressor, BaggingRegressor, StackingRegressor, VotingRegressor\n",
    "from sklearn.metrics import root_mean_squared_error, mean_absolute_error, r2_score\n",
    "from sklearn.model_selection import train_test_split\n",
    "from code_files.data_preperation import prepare_for_train\n",
    "from code_files.train import train\n",
    "import pandas as pd\n",
    "import numpy as np"
   ]
  },
  {
   "cell_type": "code",
   "execution_count": 2,
   "metadata": {},
   "outputs": [
    {
     "name": "stdout",
     "output_type": "stream",
     "text": [
      "<class 'pandas.core.frame.DataFrame'>\n",
      "RangeIndex: 117123 entries, 0 to 117122\n",
      "Data columns (total 24 columns):\n",
      " #   Column                               Non-Null Count   Dtype  \n",
      "---  ------                               --------------   -----  \n",
      " 0   Unnamed: 0                           117123 non-null  int64  \n",
      " 1   Size                                 117123 non-null  int64  \n",
      " 2   Qty                                  117123 non-null  int64  \n",
      " 3   Amount                               117123 non-null  float64\n",
      " 4   promotion-ids                        117123 non-null  int64  \n",
      " 5   B2B                                  117123 non-null  int64  \n",
      " 6   Status_Cancelled                     117123 non-null  bool   \n",
      " 7   Status_Shipped                       117123 non-null  bool   \n",
      " 8   Status_Shipped - Delivered to Buyer  117123 non-null  bool   \n",
      " 9   Fulfilment_Amazon                    117123 non-null  bool   \n",
      " 10  Fulfilment_Merchant                  117123 non-null  bool   \n",
      " 11  ship-service-level_Expedited         117123 non-null  bool   \n",
      " 12  ship-service-level_Standard          117123 non-null  bool   \n",
      " 13  Category_Blouse                      117123 non-null  bool   \n",
      " 14  Category_Bottom                      117123 non-null  bool   \n",
      " 15  Category_Dupatta                     117123 non-null  bool   \n",
      " 16  Category_Ethnic Dress                117123 non-null  bool   \n",
      " 17  Category_Saree                       117123 non-null  bool   \n",
      " 18  Category_Set                         117123 non-null  bool   \n",
      " 19  Category_Top                         117123 non-null  bool   \n",
      " 20  Category_Western Dress               117123 non-null  bool   \n",
      " 21  Category_kurta                       117123 non-null  bool   \n",
      " 22  Month                                117123 non-null  int64  \n",
      " 23  Day                                  117123 non-null  int64  \n",
      "dtypes: bool(16), float64(1), int64(7)\n",
      "memory usage: 8.9 MB\n"
     ]
    },
    {
     "data": {
      "text/plain": [
       "Index(['Unnamed: 0', 'Size', 'Qty', 'Amount', 'promotion-ids', 'B2B',\n",
       "       'Status_Cancelled', 'Status_Shipped',\n",
       "       'Status_Shipped - Delivered to Buyer', 'Fulfilment_Amazon',\n",
       "       'Fulfilment_Merchant', 'ship-service-level_Expedited',\n",
       "       'ship-service-level_Standard', 'Category_Blouse', 'Category_Bottom',\n",
       "       'Category_Dupatta', 'Category_Ethnic Dress', 'Category_Saree',\n",
       "       'Category_Set', 'Category_Top', 'Category_Western Dress',\n",
       "       'Category_kurta', 'Month', 'Day'],\n",
       "      dtype='object')"
      ]
     },
     "execution_count": 2,
     "metadata": {},
     "output_type": "execute_result"
    }
   ],
   "source": [
    "# Load Dataset\n",
    "df_amazon = pd.read_csv(\"dataset/eda_amazon_sales_report.csv\")\n",
    "df_amazon.info()\n",
    "\n",
    "df_amazon.columns"
   ]
  },
  {
   "cell_type": "code",
   "execution_count": 6,
   "metadata": {},
   "outputs": [],
   "source": [
    "# CONSTANTS\n",
    "MODELS = [\n",
    "    RandomForestRegressor(),\n",
    "    GradientBoostingRegressor(),\n",
    "    AdaBoostRegressor(),\n",
    "    BaggingRegressor(),\n",
    "    VotingRegressor(\n",
    "        estimators=[\n",
    "            ('Decision Tree', DecisionTreeRegressor(**{'max_depth': 10, 'min_samples_leaf': 2, 'min_samples_split': 2})),\n",
    "            ('Ridge', Ridge(**{'alpha': 0.1, 'fit_intercept': True, 'solver': 'sag', 'tol': 0.01})),\n",
    "            ('SGD', SGDRegressor(**{'alpha': 0.0001, 'eta0': 0.001, 'learning_rate': 'invscaling', 'penalty': 'elasticnet'}))\n",
    "        ]\n",
    "    ),\n",
    "    StackingRegressor(\n",
    "        estimators=[\n",
    "            ('Decision Tree', DecisionTreeRegressor(**{'max_depth': 10, 'min_samples_leaf': 2, 'min_samples_split': 2})),\n",
    "            ('Ridge', Ridge(**{'alpha': 0.1, 'fit_intercept': True, 'solver': 'sag', 'tol': 0.01})),\n",
    "            ('SGD', SGDRegressor(**{'alpha': 0.0001, 'eta0': 0.001, 'learning_rate': 'invscaling', 'penalty': 'elasticnet'}))\n",
    "        ]\n",
    "    )\n",
    "]"
   ]
  },
  {
   "cell_type": "code",
   "execution_count": 7,
   "metadata": {},
   "outputs": [
    {
     "name": "stdout",
     "output_type": "stream",
     "text": [
      "Model: RandomForestRegressor\n",
      "Model: GradientBoostingRegressor\n",
      "Model: AdaBoostRegressor\n",
      "Model: BaggingRegressor\n",
      "Model: VotingRegressor\n",
      "Model: StackingRegressor\n"
     ]
    },
    {
     "data": {
      "text/html": [
       "<div>\n",
       "<style scoped>\n",
       "    .dataframe tbody tr th:only-of-type {\n",
       "        vertical-align: middle;\n",
       "    }\n",
       "\n",
       "    .dataframe tbody tr th {\n",
       "        vertical-align: top;\n",
       "    }\n",
       "\n",
       "    .dataframe thead th {\n",
       "        text-align: right;\n",
       "    }\n",
       "</style>\n",
       "<table border=\"1\" class=\"dataframe\">\n",
       "  <thead>\n",
       "    <tr style=\"text-align: right;\">\n",
       "      <th></th>\n",
       "      <th>model</th>\n",
       "      <th>mae</th>\n",
       "      <th>rmse</th>\n",
       "      <th>r2</th>\n",
       "    </tr>\n",
       "  </thead>\n",
       "  <tbody>\n",
       "    <tr>\n",
       "      <th>0</th>\n",
       "      <td>RandomForestRegressor</td>\n",
       "      <td>243.157248</td>\n",
       "      <td>317.102649</td>\n",
       "      <td>317.102649</td>\n",
       "    </tr>\n",
       "    <tr>\n",
       "      <th>1</th>\n",
       "      <td>GradientBoostingRegressor</td>\n",
       "      <td>211.452304</td>\n",
       "      <td>275.112790</td>\n",
       "      <td>275.112790</td>\n",
       "    </tr>\n",
       "    <tr>\n",
       "      <th>2</th>\n",
       "      <td>AdaBoostRegressor</td>\n",
       "      <td>236.646949</td>\n",
       "      <td>292.436718</td>\n",
       "      <td>292.436718</td>\n",
       "    </tr>\n",
       "    <tr>\n",
       "      <th>3</th>\n",
       "      <td>BaggingRegressor</td>\n",
       "      <td>249.218990</td>\n",
       "      <td>324.045099</td>\n",
       "      <td>324.045099</td>\n",
       "    </tr>\n",
       "    <tr>\n",
       "      <th>4</th>\n",
       "      <td>VotingRegressor</td>\n",
       "      <td>213.244832</td>\n",
       "      <td>278.245898</td>\n",
       "      <td>278.245898</td>\n",
       "    </tr>\n",
       "    <tr>\n",
       "      <th>5</th>\n",
       "      <td>StackingRegressor</td>\n",
       "      <td>212.710636</td>\n",
       "      <td>278.346917</td>\n",
       "      <td>278.346917</td>\n",
       "    </tr>\n",
       "  </tbody>\n",
       "</table>\n",
       "</div>"
      ],
      "text/plain": [
       "                       model         mae        rmse          r2\n",
       "0      RandomForestRegressor  243.157248  317.102649  317.102649\n",
       "1  GradientBoostingRegressor  211.452304  275.112790  275.112790\n",
       "2          AdaBoostRegressor  236.646949  292.436718  292.436718\n",
       "3           BaggingRegressor  249.218990  324.045099  324.045099\n",
       "4            VotingRegressor  213.244832  278.245898  278.245898\n",
       "5          StackingRegressor  212.710636  278.346917  278.346917"
      ]
     },
     "execution_count": 7,
     "metadata": {},
     "output_type": "execute_result"
    }
   ],
   "source": [
    "from sklearn.model_selection import train_test_split\n",
    "from code_files.data_preperation import prepare_for_train\n",
    "\n",
    "dftrain, dfdev = train_test_split(df_amazon, test_size=0.1, random_state=42)\n",
    "Xtrain, ytrain, Xdev, ydev = prepare_for_train(dftrain, dfdev)\n",
    "\n",
    "results = []\n",
    "for model in MODELS:\n",
    "    print(f\"Model: {model.__class__.__name__}\")\n",
    "    _, metrics = train(model, Xtrain, ytrain, Xdev, ydev)\n",
    "    metrics.insert(0, model.__class__.__name__)\n",
    "    results.append(metrics)\n",
    "\n",
    "df_results = pd.DataFrame(results, columns = [\"model\", \"mae\", \"rmse\", \"r2\"])\n",
    "df_results.to_csv(\"dataset/results/five-model-results.csv\", index=False)\n",
    "df_results\n",
    "\n"
   ]
  }
 ],
 "metadata": {
  "kernelspec": {
   "display_name": "gen_ml_tf",
   "language": "python",
   "name": "python3"
  },
  "language_info": {
   "codemirror_mode": {
    "name": "ipython",
    "version": 3
   },
   "file_extension": ".py",
   "mimetype": "text/x-python",
   "name": "python",
   "nbconvert_exporter": "python",
   "pygments_lexer": "ipython3",
   "version": "3.12.7"
  }
 },
 "nbformat": 4,
 "nbformat_minor": 2
}
